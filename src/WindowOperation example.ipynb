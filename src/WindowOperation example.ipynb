{
 "cells": [
  {
   "cell_type": "code",
   "execution_count": 1,
   "metadata": {},
   "outputs": [],
   "source": [
    "from analytics import operation_builder\n",
    "from analytics.parser import *\n",
    "from analytics.visualization import *\n",
    "import os\n",
    "import warnings\n",
    "warnings.filterwarnings('ignore')\n",
    "import pandas as pd\n",
    "import sent2vec"
   ]
  },
  {
   "cell_type": "code",
   "execution_count": 2,
   "metadata": {},
   "outputs": [],
   "source": [
    "def select(data):\n",
    "    columns = data.columns\n",
    "    valid = []\n",
    "    for column in columns:\n",
    "        percentage = len(data.loc[data[column]==1])*1.0/len(data)\n",
    "        valid.append(percentage)\n",
    "    data.loc['valid'] = valid\n",
    "    return data\n",
    "    "
   ]
  },
  {
   "cell_type": "markdown",
   "metadata": {},
   "source": [
    "### import data "
   ]
  },
  {
   "cell_type": "code",
   "execution_count": 3,
   "metadata": {},
   "outputs": [],
   "source": [
    "\n",
    "list_of_elem_ops_per_pad = dict()\n",
    "elemOpsCounter = 0\n",
    "root_of_dbs = \"../../data/\"\n",
    "\n",
    "\n",
    "for (dirpath, dirnames, filenames) in os.walk(root_of_dbs):\n",
    "    for filename in filenames:\n",
    "        \n",
    "        if '.sql' in filename:\n",
    "            path_to_db = os.path.join(dirpath, filename)\n",
    "            # Fetching the new operations\n",
    "            list_of_elem_ops_per_main = get_elem_ops_per_pad_from_db(\n",
    "                path_to_db=path_to_db,\n",
    "                 editor='sql_dump'\n",
    "            )# we got the ElementOperations of each pad at beginining\n",
    "\n",
    "            for pad_name, pad_vals in list_of_elem_ops_per_main.items():\n",
    "                list_of_elem_ops_per_pad[pad_name + filename[-7:-4]] = pad_vals\n",
    "        \n",
    "pads, _, elem_ops_treated = operation_builder.build_operations_from_elem_ops(list_of_elem_ops_per_pad,##  pads with all the operations\n",
    "                                                                             config.maximum_time_between_elem_ops)"
   ]
  },
  {
   "cell_type": "markdown",
   "metadata": {},
   "source": [
    "### select best time interval \n",
    "must run pad.create_paragraphs_from_ops before since it will set pad start time otherwise no windowOperation can be created "
   ]
  },
  {
   "cell_type": "code",
   "execution_count": 5,
   "metadata": {},
   "outputs": [],
   "source": [
    "categrary = {}\n",
    "#time_interval_list = [20000*i for i in range(4)]\n",
    "time_interval_list = [180000]\n",
    "for pad_name in pads.keys():\n",
    "    pad = pads[pad_name]\n",
    "    pad.create_paragraphs_from_ops(elem_ops_treated[pad_name]) # create paragraphs and will set the pad start time, must run this before create windowOperation\n",
    "    label = pad.selectTimeInterval(time_interval_list,10,5)\n",
    "    categrary[pad_name] = label"
   ]
  },
  {
   "cell_type": "code",
   "execution_count": 11,
   "metadata": {},
   "outputs": [
    {
     "data": {
      "text/html": [
       "<div>\n",
       "<style scoped>\n",
       "    .dataframe tbody tr th:only-of-type {\n",
       "        vertical-align: middle;\n",
       "    }\n",
       "\n",
       "    .dataframe tbody tr th {\n",
       "        vertical-align: top;\n",
       "    }\n",
       "\n",
       "    .dataframe thead th {\n",
       "        text-align: right;\n",
       "    }\n",
       "</style>\n",
       "<table border=\"1\" class=\"dataframe\">\n",
       "  <thead>\n",
       "    <tr style=\"text-align: right;\">\n",
       "      <th></th>\n",
       "      <th>180000</th>\n",
       "    </tr>\n",
       "  </thead>\n",
       "  <tbody>\n",
       "    <tr>\n",
       "      <th>edusearch2014_report-121-15-1MDP</th>\n",
       "      <td>0</td>\n",
       "    </tr>\n",
       "    <tr>\n",
       "      <th>edusearch2014_report-121-25-3MDP</th>\n",
       "      <td>1</td>\n",
       "    </tr>\n",
       "    <tr>\n",
       "      <th>edusearch2014_report-123-15-1MDP</th>\n",
       "      <td>0</td>\n",
       "    </tr>\n",
       "    <tr>\n",
       "      <th>edusearch2014_report-123-25-3MDP</th>\n",
       "      <td>1</td>\n",
       "    </tr>\n",
       "    <tr>\n",
       "      <th>edusearch2014_report-126-15-1MDP</th>\n",
       "      <td>0</td>\n",
       "    </tr>\n",
       "  </tbody>\n",
       "</table>\n",
       "</div>"
      ],
      "text/plain": [
       "                                  180000\n",
       "edusearch2014_report-121-15-1MDP       0\n",
       "edusearch2014_report-121-25-3MDP       1\n",
       "edusearch2014_report-123-15-1MDP       0\n",
       "edusearch2014_report-123-25-3MDP       1\n",
       "edusearch2014_report-126-15-1MDP       0"
      ]
     },
     "execution_count": 11,
     "metadata": {},
     "output_type": "execute_result"
    }
   ],
   "source": [
    "import pandas as pd\n",
    "Columns = [str(x) for x in time_interval_list]\n",
    "data = pd.DataFrame.from_dict(categrary,orient='index',columns=Columns)\n",
    "#colum_list = [str(20*i) for i in range(4)]\n",
    "colum_list = [str(180000)]\n",
    "data.columns = colum_list\n",
    "data.head()"
   ]
  },
  {
   "cell_type": "code",
   "execution_count": 7,
   "metadata": {},
   "outputs": [
    {
     "data": {
      "text/html": [
       "<div>\n",
       "<style scoped>\n",
       "    .dataframe tbody tr th:only-of-type {\n",
       "        vertical-align: middle;\n",
       "    }\n",
       "\n",
       "    .dataframe tbody tr th {\n",
       "        vertical-align: top;\n",
       "    }\n",
       "\n",
       "    .dataframe thead th {\n",
       "        text-align: right;\n",
       "    }\n",
       "</style>\n",
       "<table border=\"1\" class=\"dataframe\">\n",
       "  <thead>\n",
       "    <tr style=\"text-align: right;\">\n",
       "      <th></th>\n",
       "      <th>180000</th>\n",
       "    </tr>\n",
       "  </thead>\n",
       "  <tbody>\n",
       "    <tr>\n",
       "      <th>count</th>\n",
       "      <td>1071.000000</td>\n",
       "    </tr>\n",
       "    <tr>\n",
       "      <th>mean</th>\n",
       "      <td>0.169935</td>\n",
       "    </tr>\n",
       "    <tr>\n",
       "      <th>std</th>\n",
       "      <td>0.375751</td>\n",
       "    </tr>\n",
       "    <tr>\n",
       "      <th>min</th>\n",
       "      <td>0.000000</td>\n",
       "    </tr>\n",
       "    <tr>\n",
       "      <th>25%</th>\n",
       "      <td>0.000000</td>\n",
       "    </tr>\n",
       "    <tr>\n",
       "      <th>50%</th>\n",
       "      <td>0.000000</td>\n",
       "    </tr>\n",
       "    <tr>\n",
       "      <th>75%</th>\n",
       "      <td>0.000000</td>\n",
       "    </tr>\n",
       "    <tr>\n",
       "      <th>max</th>\n",
       "      <td>1.000000</td>\n",
       "    </tr>\n",
       "  </tbody>\n",
       "</table>\n",
       "</div>"
      ],
      "text/plain": [
       "            180000\n",
       "count  1071.000000\n",
       "mean      0.169935\n",
       "std       0.375751\n",
       "min       0.000000\n",
       "25%       0.000000\n",
       "50%       0.000000\n",
       "75%       0.000000\n",
       "max       1.000000"
      ]
     },
     "execution_count": 7,
     "metadata": {},
     "output_type": "execute_result"
    }
   ],
   "source": [
    "data.describe()"
   ]
  },
  {
   "cell_type": "code",
   "execution_count": 8,
   "metadata": {},
   "outputs": [],
   "source": [
    "Des_data = data.describe()\n",
    "mean_data =Des_data.filter(like='mean',axis=0)"
   ]
  },
  {
   "cell_type": "code",
   "execution_count": 9,
   "metadata": {},
   "outputs": [],
   "source": [
    "ydata = list(Des_data.loc['mean']*100)\n",
    "xdata = [20*i for i in range(3,20)]"
   ]
  },
  {
   "cell_type": "code",
   "execution_count": null,
   "metadata": {},
   "outputs": [],
   "source": [
    "Des_data.loc['mean'].plot"
   ]
  },
  {
   "cell_type": "markdown",
   "metadata": {},
   "source": [
    "### semantic analysis "
   ]
  },
  {
   "cell_type": "code",
   "execution_count": null,
   "metadata": {},
   "outputs": [],
   "source": [
    "model = sent2vec.Sent2vecModel()\n",
    "model_name = '../pre_modle/sent2vec/wiki_unigrams.bin'\n",
    "model.load_model(model_name)  ## import the sent2vec pretrained model"
   ]
  },
  {
   "cell_type": "code",
   "execution_count": null,
   "metadata": {},
   "outputs": [],
   "source": [
    "pad_slope = {}\n",
    "for pad_name in pads.keys():\n",
    "    pad = pads[pad_name]\n",
    "    pad.create_paragraphs_from_ops(elem_ops_treated[pad_name])\n",
    "    pad.BuildWindowOperation(180000) ## build windowOperation with time interval 180s \n",
    "    pad.getTextByWin(True,model) ## get each windowOperations text\n",
    "    pad.computeDistance() ## compute the distance inside one WindowOperation between different authors\n",
    "    pad.PlotSimilarityDistribution(False)## this function can plot the similarity distribution in time, and compute the linear fitting slope for the pad\n",
    "    pad_slope[pad_name] = pad.fitting_slope"
   ]
  }
 ],
 "metadata": {
  "kernelspec": {
   "display_name": "Python 3",
   "language": "python",
   "name": "python3"
  },
  "language_info": {
   "codemirror_mode": {
    "name": "ipython",
    "version": 3
   },
   "file_extension": ".py",
   "mimetype": "text/x-python",
   "name": "python",
   "nbconvert_exporter": "python",
   "pygments_lexer": "ipython3",
   "version": "3.7.0"
  }
 },
 "nbformat": 4,
 "nbformat_minor": 2
}
